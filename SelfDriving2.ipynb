{
  "cells": [
    {
      "cell_type": "code",
      "execution_count": 1,
      "metadata": {
        "id": "XekH3TFV8P3Z"
      },
      "outputs": [],
      "source": [
        "import torch\n",
        "import torchvision\n",
        "import cv2\n",
        "from subprocess import call"
      ]
    },
    {
      "cell_type": "code",
      "execution_count": 2,
      "metadata": {},
      "outputs": [
        {
          "name": "stderr",
          "output_type": "stream",
          "text": [
            "/home/pranjal-ubuntu/.local/lib/python3.8/site-packages/torchvision/models/_utils.py:208: UserWarning: The parameter 'pretrained' is deprecated since 0.13 and may be removed in the future, please use 'weights' instead.\n",
            "  warnings.warn(\n",
            "/home/pranjal-ubuntu/.local/lib/python3.8/site-packages/torchvision/models/_utils.py:223: UserWarning: Arguments other than a weight enum or `None` for 'weights' are deprecated since 0.13 and may be removed in the future. The current behavior is equivalent to passing `weights=ResNet18_Weights.IMAGENET1K_V1`. You can also use `weights=ResNet18_Weights.DEFAULT` to get the most up-to-date weights.\n",
            "  warnings.warn(msg)\n"
          ]
        }
      ],
      "source": [
        "model = torchvision.models.resnet18(pretrained=True)"
      ]
    },
    {
      "cell_type": "code",
      "execution_count": 3,
      "metadata": {},
      "outputs": [],
      "source": [
        "network = torch.load(\"/home/pranjal-ubuntu/Downloads/resnet_model.pt\")"
      ]
    },
    {
      "cell_type": "code",
      "execution_count": 15,
      "metadata": {},
      "outputs": [],
      "source": [
        "Angle = 0\n",
        "xs = []\n",
        "ys = []"
      ]
    },
    {
      "cell_type": "code",
      "execution_count": 5,
      "metadata": {},
      "outputs": [],
      "source": [
        "\n",
        "img = cv2.imread('steering.jpg')"
      ]
    },
    {
      "cell_type": "code",
      "execution_count": 6,
      "metadata": {},
      "outputs": [],
      "source": [
        "rows,cols,channels = img.shape"
      ]
    },
    {
      "cell_type": "code",
      "execution_count": 7,
      "metadata": {},
      "outputs": [
        {
          "name": "stdout",
          "output_type": "stream",
          "text": [
            "240\n",
            "240\n"
          ]
        }
      ],
      "source": [
        "print(rows)\n",
        "print(cols)"
      ]
    },
    {
      "cell_type": "code",
      "execution_count": 8,
      "metadata": {},
      "outputs": [],
      "source": [
        "with open(\"data.txt\") as f:\n",
        "    for line in f:\n",
        "        xs.append(\"driving_dataset\" + line.split()[0])\n",
        "        ys.append(float(line.split()[1]))"
      ]
    },
    {
      "cell_type": "code",
      "execution_count": 9,
      "metadata": {},
      "outputs": [
        {
          "name": "stdout",
          "output_type": "stream",
          "text": [
            "45406\n"
          ]
        }
      ],
      "source": [
        "num_images = len(xs)\n",
        "print(num_images)"
      ]
    },
    {
      "cell_type": "code",
      "execution_count": 10,
      "metadata": {},
      "outputs": [],
      "source": [
        "device = torch.device('cuda:0' if torch.cuda.is_available() else 'cpu')"
      ]
    },
    {
      "cell_type": "code",
      "execution_count": 16,
      "metadata": {},
      "outputs": [
        {
          "name": "stdout",
          "output_type": "stream",
          "text": [
            "Predicted steering angle : -2.572908639907837\n",
            "Predicted steering angle : -4.794498920440674\n",
            "Predicted steering angle : -7.183904647827148\n",
            "Predicted steering angle : -9.08810806274414\n",
            "Predicted steering angle : -8.680208206176758\n",
            "Predicted steering angle : -9.820165634155273\n",
            "Predicted steering angle : -11.915932655334473\n",
            "Predicted steering angle : -13.32911205291748\n",
            "Predicted steering angle : -14.857433319091797\n",
            "Predicted steering angle : -13.130354881286621\n",
            "Predicted steering angle : -10.851922035217285\n",
            "Predicted steering angle : -8.225091934204102\n",
            "Predicted steering angle : -5.445172309875488\n",
            "Predicted steering angle : -2.8767714500427246\n",
            "Predicted steering angle : -0.4797816276550293\n",
            "Predicted steering angle : 0.6796153783798218\n",
            "Predicted steering angle : 1.4767332077026367\n",
            "Predicted steering angle : 2.0529651641845703\n",
            "Predicted steering angle : 3.422041177749634\n",
            "Predicted steering angle : 1.4893863201141357\n",
            "Predicted steering angle : 2.3801639080047607\n",
            "Predicted steering angle : 0.27956676483154297\n",
            "Predicted steering angle : -1.3843114376068115\n",
            "Predicted steering angle : -0.8836342692375183\n",
            "Predicted steering angle : -3.2124691009521484\n",
            "Predicted steering angle : -4.411510467529297\n",
            "Predicted steering angle : -6.589007377624512\n",
            "Predicted steering angle : -7.364192485809326\n",
            "Predicted steering angle : -6.350653171539307\n",
            "Predicted steering angle : -4.661192893981934\n",
            "Predicted steering angle : -3.7214717864990234\n",
            "Predicted steering angle : -2.588261127471924\n",
            "Predicted steering angle : -0.9590424299240112\n",
            "Predicted steering angle : -0.4992300271987915\n",
            "Predicted steering angle : -0.11120244860649109\n",
            "Predicted steering angle : -1.4562679529190063\n",
            "Predicted steering angle : -3.754335880279541\n",
            "Predicted steering angle : -6.311727523803711\n",
            "Predicted steering angle : -9.749342918395996\n",
            "Predicted steering angle : -10.761938095092773\n",
            "Predicted steering angle : -11.50838851928711\n",
            "Predicted steering angle : -12.387063026428223\n",
            "Predicted steering angle : -12.787965774536133\n",
            "Predicted steering angle : -13.397768020629883\n",
            "Predicted steering angle : -13.638507843017578\n",
            "Predicted steering angle : -15.246965408325195\n",
            "Predicted steering angle : -16.268932342529297\n",
            "Predicted steering angle : -14.978076934814453\n",
            "Predicted steering angle : -13.802614212036133\n",
            "Predicted steering angle : -11.44939136505127\n",
            "Predicted steering angle : -9.131120681762695\n",
            "Predicted steering angle : -5.503087997436523\n",
            "Predicted steering angle : -1.921863317489624\n",
            "Predicted steering angle : 0.8329620361328125\n",
            "Predicted steering angle : 4.755282402038574\n",
            "Predicted steering angle : 5.66548490524292\n",
            "Predicted steering angle : 7.081672668457031\n",
            "Predicted steering angle : 5.048454761505127\n",
            "Predicted steering angle : 2.601680040359497\n",
            "Predicted steering angle : -0.3351426124572754\n",
            "Predicted steering angle : 0.4009089469909668\n",
            "Predicted steering angle : 1.2577710151672363\n",
            "Predicted steering angle : 2.389774799346924\n",
            "Predicted steering angle : 3.7743163108825684\n",
            "Predicted steering angle : 5.130766868591309\n",
            "Predicted steering angle : 6.643343925476074\n",
            "Predicted steering angle : 4.7080535888671875\n",
            "Predicted steering angle : 3.0149471759796143\n",
            "Predicted steering angle : 1.1257058382034302\n",
            "Predicted steering angle : 1.5978121757507324\n",
            "Predicted steering angle : 2.8126296997070312\n",
            "Predicted steering angle : 4.744271755218506\n",
            "Predicted steering angle : 6.2704291343688965\n",
            "Predicted steering angle : 7.365846633911133\n",
            "Predicted steering angle : 8.187106132507324\n",
            "Predicted steering angle : 8.90278148651123\n",
            "Predicted steering angle : 10.720504760742188\n",
            "Predicted steering angle : 8.11963939666748\n",
            "Predicted steering angle : 5.943390369415283\n",
            "Predicted steering angle : 7.128989219665527\n",
            "Predicted steering angle : 4.163335800170898\n",
            "Predicted steering angle : 1.902332067489624\n",
            "Predicted steering angle : -0.5186870098114014\n",
            "Predicted steering angle : -2.2380828857421875\n",
            "Predicted steering angle : -1.9663199186325073\n",
            "Predicted steering angle : -0.8561742305755615\n",
            "Predicted steering angle : -3.2328686714172363\n",
            "Predicted steering angle : -4.715295314788818\n",
            "Predicted steering angle : -3.437028408050537\n",
            "Predicted steering angle : -2.2335453033447266\n",
            "Predicted steering angle : -3.4346132278442383\n",
            "Predicted steering angle : -2.0755867958068848\n",
            "Predicted steering angle : -0.526758074760437\n",
            "Predicted steering angle : -0.1067705750465393\n",
            "Predicted steering angle : -1.8113093376159668\n",
            "Predicted steering angle : -4.071223258972168\n",
            "Predicted steering angle : -3.0635128021240234\n",
            "Predicted steering angle : -6.04176139831543\n",
            "Predicted steering angle : -4.770196914672852\n"
          ]
        },
        {
          "ename": "KeyboardInterrupt",
          "evalue": "",
          "output_type": "error",
          "traceback": [
            "\u001b[0;31m---------------------------------------------------------------------------\u001b[0m",
            "\u001b[0;31mKeyboardInterrupt\u001b[0m                         Traceback (most recent call last)",
            "\u001b[0;32m<ipython-input-16-fd3c6d8aee24>\u001b[0m in \u001b[0;36m<module>\u001b[0;34m\u001b[0m\n\u001b[1;32m      7\u001b[0m     \u001b[0mimage\u001b[0m \u001b[0;34m=\u001b[0m \u001b[0mimage\u001b[0m\u001b[0;34m.\u001b[0m\u001b[0mfloat\u001b[0m\u001b[0;34m(\u001b[0m\u001b[0;34m)\u001b[0m\u001b[0;34m\u001b[0m\u001b[0;34m\u001b[0m\u001b[0m\n\u001b[1;32m      8\u001b[0m     \u001b[0mimage\u001b[0m \u001b[0;34m=\u001b[0m \u001b[0mimage\u001b[0m\u001b[0;34m.\u001b[0m\u001b[0mreshape\u001b[0m\u001b[0;34m(\u001b[0m\u001b[0;36m1\u001b[0m\u001b[0;34m,\u001b[0m \u001b[0;36m3\u001b[0m\u001b[0;34m,\u001b[0m \u001b[0;36m256\u001b[0m\u001b[0;34m,\u001b[0m \u001b[0;36m256\u001b[0m\u001b[0;34m)\u001b[0m\u001b[0;34m\u001b[0m\u001b[0;34m\u001b[0m\u001b[0m\n\u001b[0;32m----> 9\u001b[0;31m     \u001b[0mpredicted\u001b[0m \u001b[0;34m=\u001b[0m \u001b[0mnetwork\u001b[0m\u001b[0;34m(\u001b[0m\u001b[0mimage\u001b[0m\u001b[0;34m)\u001b[0m\u001b[0;34m\u001b[0m\u001b[0;34m\u001b[0m\u001b[0m\n\u001b[0m\u001b[1;32m     10\u001b[0m     \u001b[0mAngle\u001b[0m \u001b[0;34m+=\u001b[0m \u001b[0;36m0.3\u001b[0m \u001b[0;34m*\u001b[0m \u001b[0mpow\u001b[0m\u001b[0;34m(\u001b[0m\u001b[0mabs\u001b[0m\u001b[0;34m(\u001b[0m\u001b[0;34m(\u001b[0m\u001b[0mpredicted\u001b[0m \u001b[0;34m-\u001b[0m \u001b[0mAngle\u001b[0m\u001b[0;34m)\u001b[0m\u001b[0;34m)\u001b[0m\u001b[0;34m,\u001b[0m \u001b[0;36m2.0\u001b[0m \u001b[0;34m/\u001b[0m \u001b[0;36m3.0\u001b[0m\u001b[0;34m)\u001b[0m \u001b[0;34m*\u001b[0m \u001b[0;34m(\u001b[0m\u001b[0mpredicted\u001b[0m \u001b[0;34m-\u001b[0m \u001b[0msmoothed_angle\u001b[0m\u001b[0;34m)\u001b[0m \u001b[0;34m/\u001b[0m \u001b[0mabs\u001b[0m\u001b[0;34m(\u001b[0m\u001b[0mpredicted\u001b[0m \u001b[0;34m-\u001b[0m \u001b[0msmoothed_angle\u001b[0m\u001b[0;34m)\u001b[0m\u001b[0;34m\u001b[0m\u001b[0;34m\u001b[0m\u001b[0m\n\u001b[1;32m     11\u001b[0m     \u001b[0mAngle\u001b[0m \u001b[0;34m=\u001b[0m \u001b[0mAngle\u001b[0m\u001b[0;34m.\u001b[0m\u001b[0mitem\u001b[0m\u001b[0;34m(\u001b[0m\u001b[0;34m)\u001b[0m\u001b[0;34m\u001b[0m\u001b[0;34m\u001b[0m\u001b[0m\n",
            "\u001b[0;31mKeyboardInterrupt\u001b[0m: "
          ]
        }
      ],
      "source": [
        "\n",
        "for i in range(num_images):\n",
        "    full_image = cv2.imread(\"driving_dataset/\" + str(i) + \".jpg\", cv2.IMREAD_COLOR)\n",
        "    image = cv2.resize(full_image, (256, 256))\n",
        "    cv2.imshow(\"image\",image)\n",
        "    image = torch.from_numpy(image)\n",
        "    image = image.to(device)\n",
        "    image = image.float()\n",
        "    image = image.reshape(1, 3, 256, 256)\n",
        "    predicted = network(image)\n",
        "    Angle += 0.3 * pow(abs((predicted - Angle)), 2.0 / 3.0) * (predicted - smoothed_angle) / abs(predicted - smoothed_angle)\n",
        "    Angle = Angle.item()\n",
        "    print(f\"Predicted steering angle : {Angle}\")\n",
        "    M = cv2.getRotationMatrix2D((cols/2,rows/2),-Angle,1)\n",
        "    dst = cv2.warpAffine(img,M,(cols,rows))\n",
        "    cv2.imshow(\"steering\", dst)\n",
        "    cv2.waitKey(1)\n",
        "    i = i+1\n"
      ]
    },
    {
      "cell_type": "code",
      "execution_count": 17,
      "metadata": {},
      "outputs": [],
      "source": [
        "cv2.destroyWindow(\"steering\")\n",
        "cv2.destroyWindow(\"image\")"
      ]
    },
    {
      "cell_type": "code",
      "execution_count": null,
      "metadata": {},
      "outputs": [],
      "source": []
    },
    {
      "cell_type": "code",
      "execution_count": null,
      "metadata": {},
      "outputs": [],
      "source": []
    }
  ],
  "metadata": {
    "colab": {
      "provenance": []
    },
    "kernelspec": {
      "display_name": "Python 3",
      "language": "python",
      "name": "python3"
    },
    "language_info": {
      "codemirror_mode": {
        "name": "ipython",
        "version": 3
      },
      "file_extension": ".py",
      "mimetype": "text/x-python",
      "name": "python",
      "nbconvert_exporter": "python",
      "pygments_lexer": "ipython3",
      "version": "3.8.10"
    },
    "vscode": {
      "interpreter": {
        "hash": "916dbcbb3f70747c44a77c7bcd40155683ae19c65e1c03b4aa3499c5328201f1"
      }
    }
  },
  "nbformat": 4,
  "nbformat_minor": 0
}
